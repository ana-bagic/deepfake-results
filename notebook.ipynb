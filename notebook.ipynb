{
 "cells": [
  {
   "cell_type": "markdown",
   "metadata": {},
   "source": [
    "Importanje potrebnih biblioteka."
   ]
  },
  {
   "cell_type": "code",
   "execution_count": 3,
   "metadata": {},
   "outputs": [],
   "source": [
    "import pandas as pd\n",
    "import scipy.stats as stats"
   ]
  },
  {
   "cell_type": "markdown",
   "metadata": {},
   "source": [
    "Definiranje raspona generacija i ispravno ocjenjivanje deepfake videa."
   ]
  },
  {
   "cell_type": "code",
   "execution_count": 4,
   "metadata": {},
   "outputs": [],
   "source": [
    "# gornji broj je exclusive\n",
    "gen_z = range(15, 30)\n",
    "gen_y = range(30, 45)\n",
    "gen_z = range(45, 65)\n",
    "gen_babyboom = range(65, 80)\n",
    "gen_silent = range(80, 100)\n",
    "\n",
    "# 0 - autentičan, 1 - deepfake (3, 7, 9)\n",
    "deepfake_correct = [0, 0, 1, 0, 0, 0, 1, 0, 1, 0]\n",
    "deepfake_strings = [f'deepfake_{i}' for i in range (1, 11)]"
   ]
  },
  {
   "cell_type": "markdown",
   "metadata": {},
   "source": [
    "Učitavanje dataseta."
   ]
  },
  {
   "cell_type": "code",
   "execution_count": 7,
   "metadata": {},
   "outputs": [],
   "source": [
    "dataset = pd.read_excel(r'dataset.xlsx')"
   ]
  },
  {
   "cell_type": "markdown",
   "metadata": {},
   "source": [
    "\"Ispravljanje\" deepfake columna u 0 (ako ispitanik nije točno odredio video) ili 1 (ispitanik je točno prepoznao pravi/deepfake video). Dodavanje novog columna 'rezultat' gdje se nalazi ukupan rezultat ispitanika (raspon od 0 do 10)."
   ]
  },
  {
   "cell_type": "code",
   "execution_count": 12,
   "metadata": {},
   "outputs": [
    {
     "name": "stdout",
     "output_type": "stream",
     "text": [
      "     ispitanik  dob  deepfake_1  deepfake_2  deepfake_3  deepfake_4  \\\n",
      "0            1   48           1           1           1           0   \n",
      "1            2   25           1           1           1           1   \n",
      "2            3   23           1           0           1           0   \n",
      "3            4   23           1           1           1           1   \n",
      "4            5   23           1           0           1           1   \n",
      "..         ...  ...         ...         ...         ...         ...   \n",
      "97          98   69           1           1           0           1   \n",
      "98          99   29           1           1           1           1   \n",
      "99         100   64           1           1           0           1   \n",
      "100        101   53           0           1           1           1   \n",
      "101        102   37           1           1           1           1   \n",
      "\n",
      "     deepfake_5  deepfake_6  deepfake_7  deepfake_8  deepfake_9  deepfake_10  \\\n",
      "0             1           0           1           1           1            0   \n",
      "1             0           0           0           0           1            0   \n",
      "2             1           0           1           1           1            0   \n",
      "3             1           1           1           1           1            1   \n",
      "4             0           0           0           1           1            1   \n",
      "..          ...         ...         ...         ...         ...          ...   \n",
      "97            1           1           0           1           1            1   \n",
      "98            1           1           1           1           1            1   \n",
      "99            1           1           0           0           1            1   \n",
      "100           1           1           0           1           1            1   \n",
      "101           1           1           0           1           1            1   \n",
      "\n",
      "     rezultat  \n",
      "0           7  \n",
      "1           5  \n",
      "2           6  \n",
      "3          10  \n",
      "4           6  \n",
      "..        ...  \n",
      "97          8  \n",
      "98         10  \n",
      "99          7  \n",
      "100         8  \n",
      "101         9  \n",
      "\n",
      "[102 rows x 13 columns]\n"
     ]
    }
   ],
   "source": [
    "# odgovori za deepfake ispravljeni u bodove 0 ili 1 ovisno jesu li pogodili\n",
    "corrected = dataset\n",
    "for i, ds in enumerate(deepfake_strings):\n",
    "    corrected[ds] = (corrected[ds] == deepfake_correct[i]).astype(int)\n",
    "\n",
    "# dodan column rezultat sa zbrojem bodova za svakog ispitanika\n",
    "corrected['rezultat'] = corrected[list(deepfake_strings)].sum(axis=1)\n",
    "\n",
    "df = pd.DataFrame(corrected, columns=['ispitanik', 'dob',\n",
    "                                   'deepfake_1', 'deepfake_2', 'deepfake_3', 'deepfake_4', 'deepfake_5',\n",
    "                                   'deepfake_6', 'deepfake_7', 'deepfake_8', 'deepfake_9', 'deepfake_10', 'rezultat'], )\n",
    "print(df)"
   ]
  },
  {
   "cell_type": "markdown",
   "metadata": {},
   "source": [
    "Računanje prosječnog rezultata ispitanika i određivanje granične p vrijednosti."
   ]
  },
  {
   "cell_type": "code",
   "execution_count": 13,
   "metadata": {},
   "outputs": [
    {
     "name": "stdout",
     "output_type": "stream",
     "text": [
      "Prosjek rezultata 7.401960784313726\n",
      "Kao granična p vrijednost se uzela 0.05\n"
     ]
    }
   ],
   "source": [
    "avg_result = corrected['rezultat'].mean()\n",
    "print('Prosjek rezultata', avg_result)\n",
    "p_value = 0.05\n",
    "print('Kao granična p vrijednost se uzela', p_value)"
   ]
  },
  {
   "cell_type": "markdown",
   "metadata": {},
   "source": [
    "Prvi test:\n",
    "H0 - Sve generacije jednako dobro raspoznaju deepfake videe\n",
    "H1 - Generacija Z bolje raspoznaje deepfake u odnosu na ostale generacije"
   ]
  },
  {
   "cell_type": "code",
   "execution_count": 14,
   "metadata": {},
   "outputs": [
    {
     "name": "stdout",
     "output_type": "stream",
     "text": [
      "H0: Sve generacije jednako dobro raspoznaju deepfake videe\n",
      "H1: Generacija Z bolje raspoznaje deepfake u odnosu na ostale generacije\n",
      "P vrijednost je 0.012318727935471592\n",
      "Odbacuje se H0.\n"
     ]
    }
   ],
   "source": [
    "t1h0 = 'Sve generacije jednako dobro raspoznaju deepfake videe'\n",
    "t1h1 = 'Generacija Z bolje raspoznaje deepfake u odnosu na ostale generacije'\n",
    "print('H0:', t1h0)\n",
    "print('H1:', t1h1)\n",
    "\n",
    "# filtriranje gen z generacije\n",
    "gen_z_data = corrected[corrected['dob'].isin(gen_z)]\n",
    "t_stat_1, p_value_1 = stats.ttest_1samp(gen_z_data['rezultat'], avg_result)\n",
    "\n",
    "print('P vrijednost je', p_value_1)\n",
    "if p_value_1 < p_value:\n",
    "    print('Odbacuje se H0.')\n",
    "else:\n",
    "    print('Nije moguće odbaciti H0.')"
   ]
  },
  {
   "cell_type": "markdown",
   "metadata": {},
   "source": [
    "Drugi test:\n",
    "H0 - Svi ispitanici podjednako dobro raspoznaju deepfake videe neovisno o tome koliko prate društvene mreže\n",
    "H1 - Ispitanici koji društvene mreže prate barem jednom dnevno bolje prepoznaju deepfake videe"
   ]
  },
  {
   "cell_type": "code",
   "execution_count": 15,
   "metadata": {},
   "outputs": [
    {
     "name": "stdout",
     "output_type": "stream",
     "text": [
      "H0: Svi ispitanici podjednako dobro raspoznaju deepfake videe neovisno o tome koliko prate društvene mreže\n",
      "H1: Ispitanici koji društvene mreže prate barem jednom dnevno bolje prepoznaju deepfake videe\n",
      "P vrijednost je 0.4021963645076293\n",
      "Nije moguće odbaciti H0.\n"
     ]
    }
   ],
   "source": [
    "t2h0 = 'Svi ispitanici podjednako dobro raspoznaju deepfake videe neovisno o tome koliko prate društvene mreže'\n",
    "t2h1 = 'Ispitanici koji društvene mreže prate barem jednom dnevno bolje prepoznaju deepfake videe'\n",
    "print('H0:', t2h0)\n",
    "print('H1:', t2h1)\n",
    "\n",
    "# filtriranje onih koji mreže prate bar jednom dnevno\n",
    "social_media_data = corrected[corrected['cesto_mreze'] == 1]\n",
    "t_stat_2, p_value_2 = stats.ttest_1samp(social_media_data['rezultat'], avg_result)\n",
    "\n",
    "print('P vrijednost je', p_value_2)\n",
    "if p_value_2 < p_value:\n",
    "    print('Odbacuje se H0.')\n",
    "else:\n",
    "    print('Nije moguće odbaciti H0.')"
   ]
  },
  {
   "cell_type": "markdown",
   "metadata": {},
   "source": [
    "Treći test:\n",
    "H0 - Svi ispitanici podjednako dobro raspoznaju deepfake videe neovisno o tome koliko imaju povjerenja u medije\n",
    "H1 - Ispitanici koji uopće nemaju povjerenja u medije ne raspoznaju dobro deepfake videe"
   ]
  },
  {
   "cell_type": "code",
   "execution_count": null,
   "metadata": {},
   "outputs": [],
   "source": []
  }
 ],
 "metadata": {
  "kernelspec": {
   "display_name": "Python 3",
   "language": "python",
   "name": "python3"
  },
  "language_info": {
   "codemirror_mode": {
    "name": "ipython",
    "version": 3
   },
   "file_extension": ".py",
   "mimetype": "text/x-python",
   "name": "python",
   "nbconvert_exporter": "python",
   "pygments_lexer": "ipython3",
   "version": "3.11.7"
  }
 },
 "nbformat": 4,
 "nbformat_minor": 2
}
