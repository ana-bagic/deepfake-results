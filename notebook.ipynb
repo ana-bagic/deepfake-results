{
 "cells": [
  {
   "cell_type": "markdown",
   "metadata": {},
   "source": [
    "Importanje potrebnih biblioteka."
   ]
  },
  {
   "cell_type": "code",
   "execution_count": 2,
   "metadata": {},
   "outputs": [],
   "source": [
    "import pandas as pd\n",
    "import scipy.stats as stats"
   ]
  },
  {
   "cell_type": "markdown",
   "metadata": {},
   "source": [
    "Definiranje raspona generacija i ispravno ocjenjivanje deepfake videa."
   ]
  },
  {
   "cell_type": "code",
   "execution_count": 3,
   "metadata": {},
   "outputs": [],
   "source": [
    "# gornji broj je exclusive\n",
    "gen_z = range(15, 30)\n",
    "gen_y = range(30, 45)\n",
    "gen_x = range(45, 65)\n",
    "gen_babyboom = range(65, 80)\n",
    "gen_silent = range(80, 100)\n",
    "not_gen_z = range(30, 100)\n",
    "\n",
    "# 0 - autentičan, 1 - deepfake (3, 7, 9)\n",
    "deepfake_correct = [0, 0, 1, 0, 0, 0, 1, 0, 1, 0]\n",
    "deepfake_strings = [f'deepfake_{i}' for i in range (1, 11)]"
   ]
  },
  {
   "cell_type": "markdown",
   "metadata": {},
   "source": [
    "Učitavanje dataseta."
   ]
  },
  {
   "cell_type": "code",
   "execution_count": 4,
   "metadata": {},
   "outputs": [],
   "source": [
    "dataset = pd.read_excel(r'dataset.xlsx')"
   ]
  },
  {
   "cell_type": "markdown",
   "metadata": {},
   "source": [
    "\"Ispravljanje\" deepfake columna u 0 (ako ispitanik nije točno odredio video) ili 1 (ispitanik je točno prepoznao pravi/deepfake video). Dodavanje novog columna 'rezultat' gdje se nalazi ukupan rezultat ispitanika (raspon od 0 do 10)."
   ]
  },
  {
   "cell_type": "code",
   "execution_count": 5,
   "metadata": {},
   "outputs": [
    {
     "name": "stdout",
     "output_type": "stream",
     "text": [
      "     ispitanik  dob  deepfake_1  deepfake_2  deepfake_3  deepfake_4  \\\n",
      "0            1   48           1           1           1           0   \n",
      "1            2   25           1           1           1           1   \n",
      "2            3   23           1           0           1           0   \n",
      "3            4   23           1           1           1           1   \n",
      "4            5   23           1           0           1           1   \n",
      "..         ...  ...         ...         ...         ...         ...   \n",
      "97          98   69           1           1           0           1   \n",
      "98          99   29           1           1           1           1   \n",
      "99         100   64           1           1           0           1   \n",
      "100        101   53           0           1           1           1   \n",
      "101        102   37           1           1           1           1   \n",
      "\n",
      "     deepfake_5  deepfake_6  deepfake_7  deepfake_8  deepfake_9  deepfake_10  \\\n",
      "0             1           0           1           1           1            0   \n",
      "1             0           0           0           0           1            0   \n",
      "2             1           0           1           1           1            0   \n",
      "3             1           1           1           1           1            1   \n",
      "4             0           0           0           1           1            1   \n",
      "..          ...         ...         ...         ...         ...          ...   \n",
      "97            1           1           0           1           1            1   \n",
      "98            1           1           1           1           1            1   \n",
      "99            1           1           0           0           1            1   \n",
      "100           1           1           0           1           1            1   \n",
      "101           1           1           0           1           1            1   \n",
      "\n",
      "     rezultat  \n",
      "0           7  \n",
      "1           5  \n",
      "2           6  \n",
      "3          10  \n",
      "4           6  \n",
      "..        ...  \n",
      "97          8  \n",
      "98         10  \n",
      "99          7  \n",
      "100         8  \n",
      "101         9  \n",
      "\n",
      "[102 rows x 13 columns]\n"
     ]
    }
   ],
   "source": [
    "# odgovori za deepfake ispravljeni u bodove 0 ili 1 ovisno jesu li pogodili\n",
    "corrected = dataset\n",
    "for i, ds in enumerate(deepfake_strings):\n",
    "    corrected[ds] = (corrected[ds] == deepfake_correct[i]).astype(int)\n",
    "\n",
    "# dodan column rezultat sa zbrojem bodova za svakog ispitanika\n",
    "corrected['rezultat'] = corrected[list(deepfake_strings)].sum(axis=1)\n",
    "\n",
    "df = pd.DataFrame(corrected, columns=['ispitanik', 'dob',\n",
    "                                   'deepfake_1', 'deepfake_2', 'deepfake_3', 'deepfake_4', 'deepfake_5',\n",
    "                                   'deepfake_6', 'deepfake_7', 'deepfake_8', 'deepfake_9', 'deepfake_10', 'rezultat'], )\n",
    "print(df)"
   ]
  },
  {
   "cell_type": "markdown",
   "metadata": {},
   "source": [
    "Računanje prosječnog rezultata ispitanika i određivanje granične p vrijednosti."
   ]
  },
  {
   "cell_type": "code",
   "execution_count": 6,
   "metadata": {},
   "outputs": [
    {
     "name": "stdout",
     "output_type": "stream",
     "text": [
      "Prosjek rezultata 7.401960784313726\n",
      "Kao granična p vrijednost se uzela 0.05\n"
     ]
    }
   ],
   "source": [
    "avg_result = corrected['rezultat'].mean()\n",
    "print('Prosjek rezultata', avg_result)\n",
    "p_value = 0.05\n",
    "print('Kao granična p vrijednost se uzela', p_value)"
   ]
  },
  {
   "cell_type": "markdown",
   "metadata": {},
   "source": [
    "Prvi test:\n",
    "H0 - Sve generacije jednako dobro raspoznaju deepfake videe\n",
    "H1 - Generacija Z bolje raspoznaje deepfake u odnosu na ostale generacije"
   ]
  },
  {
   "cell_type": "code",
   "execution_count": 11,
   "metadata": {},
   "outputs": [
    {
     "name": "stdout",
     "output_type": "stream",
     "text": [
      "H0: Sve generacije jednako dobro raspoznaju deepfake videe\n",
      "H1: Generacija Z bolje raspoznaje deepfake u odnosu na ostale generacije\n",
      "\n",
      "Prosječni rezultat ispitanika koji nisu dio gen Z generacije: 7.083333333333333\n",
      "Prosječni rezultat ispitanika koji su dio gen Z generacije: 7.685185185185185\n",
      "P vrijednost je 0.014324984472095098\n",
      "Odbacuje se H0.\n"
     ]
    }
   ],
   "source": [
    "t1h0 = 'Sve generacije jednako dobro raspoznaju deepfake videe'\n",
    "t1h1 = 'Generacija Z bolje raspoznaje deepfake u odnosu na ostale generacije'\n",
    "print('H0:', t1h0)\n",
    "print('H1:', t1h1)\n",
    "print()\n",
    "\n",
    "not_gen_z_avg = corrected[corrected['dob'].isin(not_gen_z)]['rezultat'].mean()\n",
    "print('Prosječni rezultat ispitanika koji nisu dio gen Z generacije:', not_gen_z_avg)\n",
    "gen_z_data = corrected[corrected['dob'].isin(gen_z)]['rezultat']\n",
    "print('Prosječni rezultat ispitanika koji su dio gen Z generacije:', gen_z_data.mean())\n",
    "_, p_value_test = stats.ttest_1samp(gen_z_data, not_gen_z_avg)\n",
    "\n",
    "print('P vrijednost je', p_value_test)\n",
    "if p_value_test < p_value:\n",
    "    print('Odbacuje se H0.')\n",
    "else:\n",
    "    print('Nije moguće odbaciti H0.')"
   ]
  },
  {
   "cell_type": "markdown",
   "metadata": {},
   "source": [
    "Drugi test:\n",
    "H0 - Svi ispitanici podjednako dobro raspoznaju deepfake videe neovisno o tome koliko prate društvene mreže\n",
    "H1 - Ispitanici koji društvene mreže prate barem jednom dnevno bolje prepoznaju deepfake videe"
   ]
  },
  {
   "cell_type": "code",
   "execution_count": 12,
   "metadata": {},
   "outputs": [
    {
     "name": "stdout",
     "output_type": "stream",
     "text": [
      "H0: Svi ispitanici podjednako dobro raspoznaju deepfake videe neovisno o tome koliko prate društvene mreže\n",
      "H1: Ispitanici koji društvene mreže prate barem jednom dnevno bolje prepoznaju deepfake videe\n",
      "\n",
      "Prosječni rezultat ispitanika koji rijetko prate društvene mreže: 6.7368421052631575\n",
      "Prosječni rezultat ispitanika koji često prate društvene mreže: 7.554216867469879\n",
      "P vrijednost je 2.0550580600501343e-05\n",
      "Odbacuje se H0.\n"
     ]
    }
   ],
   "source": [
    "t2h0 = 'Svi ispitanici podjednako dobro raspoznaju deepfake videe neovisno o tome koliko prate društvene mreže'\n",
    "t2h1 = 'Ispitanici koji društvene mreže prate barem jednom dnevno bolje prepoznaju deepfake videe'\n",
    "print('H0:', t2h0)\n",
    "print('H1:', t2h1)\n",
    "print()\n",
    "\n",
    "not_social_media_avg = corrected[corrected['cesto_mreze'] > 1]['rezultat'].mean()\n",
    "print('Prosječni rezultat ispitanika koji rijetko prate društvene mreže:', not_social_media_avg)\n",
    "social_media_data = corrected[corrected['cesto_mreze'] == 1]['rezultat']\n",
    "print('Prosječni rezultat ispitanika koji često prate društvene mreže:', social_media_data.mean())\n",
    "_, p_value_test = stats.ttest_1samp(social_media_data, not_social_media_avg)\n",
    "\n",
    "print('P vrijednost je', p_value_test)\n",
    "if p_value_test < p_value:\n",
    "    print('Odbacuje se H0.')\n",
    "else:\n",
    "    print('Nije moguće odbaciti H0.')"
   ]
  },
  {
   "cell_type": "markdown",
   "metadata": {},
   "source": [
    "Treći test:\n",
    "H0 - Svi ispitanici podjednako dobro raspoznaju deepfake videe neovisno o tome koliko imaju povjerenja u medije\n",
    "H1 - Ispitanici koji uopće nemaju povjerenja u medije ne raspoznaju dobro deepfake videe"
   ]
  },
  {
   "cell_type": "code",
   "execution_count": 14,
   "metadata": {},
   "outputs": [
    {
     "name": "stdout",
     "output_type": "stream",
     "text": [
      "H0: Svi ispitanici podjednako dobro raspoznaju deepfake videe neovisno o tome koliko imaju povjerenja u medije\n",
      "H1: Ispitanici koji uopće nemaju povjerenja u medije ne raspozaju dobro deepfake videe\n",
      "\n",
      "Prosječni rezultat ispitanika koji vjeruju televiziji: 7.4605263157894735\n",
      "Prosječni rezultat ispitanika koji ne vjeruju televiziji: 7.230769230769231\n",
      "P vrijednost je 0.5251477006498033\n",
      "Nije moguće odbaciti H0.\n",
      "\n",
      "Prosječni rezultat ispitanika koji vjeruju radiju: 7.512820512820513\n",
      "Prosječni rezultat ispitanika koji ne vjeruju radiju: 7.041666666666667\n",
      "P vrijednost je 0.26271987675661923\n",
      "Nije moguće odbaciti H0.\n",
      "\n",
      "Prosječni rezultat ispitanika koji vjeruju novinama: 7.506329113924051\n",
      "Prosječni rezultat ispitanika koji ne vjeruju novinama: 7.043478260869565\n",
      "P vrijednost je 0.24794753970701763\n",
      "Nije moguće odbaciti H0.\n",
      "\n",
      "Prosječni rezultat ispitanika koji vjeruju portalima: 7.491803278688525\n",
      "Prosječni rezultat ispitanika koji ne vjeruju portalima: 7.2682926829268295\n",
      "P vrijednost je 0.455168340857827\n",
      "Nije moguće odbaciti H0.\n",
      "\n",
      "Prosječni rezultat ispitanika koji vjeruju društvenim mrežama: 7.39622641509434\n",
      "Prosječni rezultat ispitanika koji ne vjeruju društvenim mrežama: 7.408163265306122\n",
      "P vrijednost je 0.9619649982527821\n",
      "Nije moguće odbaciti H0.\n",
      "\n"
     ]
    }
   ],
   "source": [
    "t3h0 = 'Svi ispitanici podjednako dobro raspoznaju deepfake videe neovisno o tome koliko imaju povjerenja u medije'\n",
    "t3h1 = 'Ispitanici koji uopće nemaju povjerenja u medije ne raspozaju dobro deepfake videe'\n",
    "print('H0:', t3h0)\n",
    "print('H1:', t3h1)\n",
    "print()\n",
    "\n",
    "# povjerenje u tv\n",
    "trust_tv_avg = corrected[corrected['povjerenje_tv'] <= 3]['rezultat'].mean()\n",
    "print('Prosječni rezultat ispitanika koji vjeruju televiziji:', trust_tv_avg)\n",
    "not_trust_tv_data = corrected[corrected['povjerenje_tv'] > 3]['rezultat']\n",
    "print('Prosječni rezultat ispitanika koji ne vjeruju televiziji:', not_trust_tv_data.mean())\n",
    "_, p_value_test = stats.ttest_1samp(not_trust_tv_data, trust_tv_avg)\n",
    "\n",
    "print('P vrijednost je', p_value_test)\n",
    "if p_value_test < p_value:\n",
    "    print('Odbacuje se H0.')\n",
    "else:\n",
    "    print('Nije moguće odbaciti H0.')\n",
    "print()\n",
    "\n",
    "# povjerenje u radio\n",
    "trust_radio_avg = corrected[corrected['povjerenje_radio'] <= 3]['rezultat'].mean()\n",
    "print('Prosječni rezultat ispitanika koji vjeruju radiju:', trust_radio_avg)\n",
    "not_trust_radio_data = corrected[corrected['povjerenje_radio'] > 3]['rezultat']\n",
    "print('Prosječni rezultat ispitanika koji ne vjeruju radiju:', not_trust_radio_data.mean())\n",
    "_, p_value_test = stats.ttest_1samp(not_trust_radio_data, trust_radio_avg)\n",
    "\n",
    "print('P vrijednost je', p_value_test)\n",
    "if p_value_test < p_value:\n",
    "    print('Odbacuje se H0.')\n",
    "else:\n",
    "    print('Nije moguće odbaciti H0.')\n",
    "print()\n",
    "\n",
    "#povjerenje u novine\n",
    "trust_news_avg = corrected[corrected['povjerenje_novine'] <= 3]['rezultat'].mean()\n",
    "print('Prosječni rezultat ispitanika koji vjeruju novinama:', trust_news_avg)\n",
    "not_trust_news_data = corrected[corrected['povjerenje_novine'] > 3]['rezultat']\n",
    "print('Prosječni rezultat ispitanika koji ne vjeruju novinama:', not_trust_news_data.mean())\n",
    "_, p_value_test = stats.ttest_1samp(not_trust_news_data, trust_news_avg)\n",
    "\n",
    "print('P vrijednost je', p_value_test)\n",
    "if p_value_test < p_value:\n",
    "    print('Odbacuje se H0.')\n",
    "else:\n",
    "    print('Nije moguće odbaciti H0.')\n",
    "print()\n",
    "\n",
    "#povjerenje u portale\n",
    "trust_portal_avg = corrected[corrected['povjerenje_portali'] <= 3]['rezultat'].mean()\n",
    "print('Prosječni rezultat ispitanika koji vjeruju portalima:', trust_portal_avg)\n",
    "not_trust_portal_data = corrected[corrected['povjerenje_portali'] > 3]['rezultat']\n",
    "print('Prosječni rezultat ispitanika koji ne vjeruju portalima:', not_trust_portal_data.mean())\n",
    "_, p_value_test = stats.ttest_1samp(not_trust_portal_data, trust_portal_avg)\n",
    "\n",
    "print('P vrijednost je', p_value_test)\n",
    "if p_value_test < p_value:\n",
    "    print('Odbacuje se H0.')\n",
    "else:\n",
    "    print('Nije moguće odbaciti H0.')\n",
    "print()\n",
    "\n",
    "# povjerenje u društvene mreže\n",
    "trust_sm_avg = corrected[corrected['povjerenje_mreze'] <= 3]['rezultat'].mean()\n",
    "print('Prosječni rezultat ispitanika koji vjeruju društvenim mrežama:', trust_sm_avg)\n",
    "not_trust_sm_data = corrected[corrected['povjerenje_mreze'] > 3]['rezultat']\n",
    "print('Prosječni rezultat ispitanika koji ne vjeruju društvenim mrežama:', not_trust_sm_data.mean())\n",
    "_, p_value_test = stats.ttest_1samp(not_trust_sm_data, trust_sm_avg)\n",
    "\n",
    "print('P vrijednost je', p_value_test)\n",
    "if p_value_test < p_value:\n",
    "    print('Odbacuje se H0.')\n",
    "else:\n",
    "    print('Nije moguće odbaciti H0.')\n",
    "print()"
   ]
  }
 ],
 "metadata": {
  "kernelspec": {
   "display_name": "Python 3",
   "language": "python",
   "name": "python3"
  },
  "language_info": {
   "codemirror_mode": {
    "name": "ipython",
    "version": 3
   },
   "file_extension": ".py",
   "mimetype": "text/x-python",
   "name": "python",
   "nbconvert_exporter": "python",
   "pygments_lexer": "ipython3",
   "version": "3.11.7"
  }
 },
 "nbformat": 4,
 "nbformat_minor": 2
}
